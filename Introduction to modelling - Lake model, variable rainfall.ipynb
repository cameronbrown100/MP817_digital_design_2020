{
 "cells": [
  {
   "cell_type": "markdown",
   "metadata": {},
   "source": [
    "# Effect of uncertainty\n",
    "Consider the following case:\n",
    "- We find out that we recieved massive rainfall with a varying range over an extended time period of 10 hours\n",
    "- Which also implies that:\n",
    " - There is no evaporation\n",
    " - Farmers did not take water out of the lake to irrigate their farmlands\n",
    " \n",
    " <center><font color=blue>How does it impact the lake's water level?</font></center>"
   ]
  },
  {
   "cell_type": "markdown",
   "metadata": {},
   "source": [
    "# Step 4. Write down the assumptions\n",
    "In addition to the previous assumptions, asssume that the rainfall can be represented by:\n",
    "\\begin{equation}\n",
    "\\ F_{rain}=F_{rain, avg} + \\Delta F_{rain}*cos(0.01t)\n",
    "\\end{equation}\n",
    "\n",
    "|Variable|Meaning|Value|\n",
    "|--- | --- | ---|\n",
    "|$F_{rain, avg}$ | Average rainfall rate (Mg) |288\n",
    "|$\\Delta F_{rain}$ | Change in rainfall (Mg/min) |180"
   ]
  },
  {
   "cell_type": "markdown",
   "metadata": {},
   "source": [
    "# Step 6. Implement the equations and run the simulation"
   ]
  },
  {
   "cell_type": "markdown",
   "metadata": {},
   "source": [
    "## 6.1 Import packages needed to run the simulation"
   ]
  },
  {
   "cell_type": "code",
   "execution_count": 2,
   "metadata": {
    "ExecuteTime": {
     "end_time": "2019-12-18T17:02:48.595171Z",
     "start_time": "2019-12-18T17:02:48.180515Z"
    }
   },
   "outputs": [],
   "source": [
    "from gekko import GEKKO\n",
    "import numpy as np\n",
    "import matplotlib.pyplot as plt"
   ]
  },
  {
   "cell_type": "markdown",
   "metadata": {},
   "source": [
    "## 6.2 Create a model and define the parameters and variables"
   ]
  },
  {
   "cell_type": "code",
   "execution_count": 13,
   "metadata": {
    "ExecuteTime": {
     "end_time": "2019-12-18T17:09:21.702935Z",
     "start_time": "2019-12-18T17:09:21.421936Z"
    }
   },
   "outputs": [],
   "source": [
    "m = GEKKO() # create GEKKO model\n",
    "m.time = np.linspace(0,600,150) # define the time over which to solve the model\n",
    "\n",
    "# define the constant parameters\n",
    "rho = m.Const(value = 1000)\n",
    "A = m.Const(value = 100)\n",
    "Frainav = m.Const(value = 288)\n",
    "delFrain = m.Const(value = 180)\n",
    "\n",
    "# define the varibles.\n",
    "# Note in this instance since we're not altering them over the course of the simulation they are defined as constants\n",
    "Fstream = m.Const(value = 10.8)\n",
    "Fground = m.Const(value = 0.6)\n",
    "Fpump = m.Const(value = 100)\n",
    "\n",
    "# for this instance these are true variables and will change over the course of the simulation\n",
    "M = m.Var(value = 1e6)\n",
    "V = m.Var(value = 1000)\n",
    "h = m.Var(value = 10)\n",
    "Frain = m.Var(value = 468)\n",
    "t = m.Param(value=m.time)"
   ]
  },
  {
   "cell_type": "markdown",
   "metadata": {},
   "source": [
    "## 6.3 Define the equations"
   ]
  },
  {
   "cell_type": "code",
   "execution_count": 14,
   "metadata": {
    "ExecuteTime": {
     "end_time": "2019-12-18T17:09:22.946718Z",
     "start_time": "2019-12-18T17:09:22.941731Z"
    }
   },
   "outputs": [
    {
     "data": {
      "text/plain": [
       "<gekko.gekko.EquationObj at 0x1f644de9448>"
      ]
     },
     "execution_count": 14,
     "metadata": {},
     "output_type": "execute_result"
    }
   ],
   "source": [
    "m.Equation(M.dt() == Frain+Fstream-Fground-Fpump) # our balance equation\n",
    "m.Equation(M == rho*V) # static equation relating mass and volume\n",
    "m.Equation(V == A*h) # static equation relating volume and lake height\n",
    "m.Equation(Frain == Frainav+delFrain*(m.cos(0.01*t)))"
   ]
  },
  {
   "cell_type": "markdown",
   "metadata": {},
   "source": [
    "## 6.4 Setup the solver and run the simulation"
   ]
  },
  {
   "cell_type": "code",
   "execution_count": 23,
   "metadata": {
    "ExecuteTime": {
     "end_time": "2019-12-18T17:17:10.140714Z",
     "start_time": "2019-12-18T17:17:05.934244Z"
    }
   },
   "outputs": [
    {
     "data": {
      "text/plain": [
       "Text(0, 0.5, 'Lake height (m)')"
      ]
     },
     "execution_count": 23,
     "metadata": {},
     "output_type": "execute_result"
    },
    {
     "data": {
      "image/png": "[encoded data removed]",
      "text/plain": [
       "<Figure size 432x288 with 2 Axes>"
      ]
     },
     "metadata": {
      "needs_background": "light"
     },
     "output_type": "display_data"
    }
   ],
   "source": [
    "m.options.IMODE = 4 # Dynamic simulation with simultaneous solution of equations\n",
    "m.solve(disp=False)\n",
    "\n",
    "ax1=plt.subplot(2,1,1)\n",
    "plt.plot(m.time,Frain.value)\n",
    "plt.xlabel('Time (min)')\n",
    "plt.ylabel('Rainfall (Mg/min)')\n",
    "ax2=plt.subplot(2,1,2, sharex=ax1)\n",
    "plt.plot(m.time,h.value)\n",
    "plt.xlabel('Time (min)')\n",
    "plt.ylabel('Lake height (m)')"
   ]
  },
  {
   "cell_type": "code",
   "execution_count": null,
   "metadata": {},
   "outputs": [],
   "source": []
  }
 ],
 "metadata": {
  "kernelspec": {
   "display_name": "Python 3",
   "language": "python",
   "name": "python3"
  },
  "language_info": {
   "codemirror_mode": {
    "name": "ipython",
    "version": 3
   },
   "file_extension": ".py",
   "mimetype": "text/x-python",
   "name": "python",
   "nbconvert_exporter": "python",
   "pygments_lexer": "ipython3",
   "version": "3.7.5"
  },
  "toc": {
   "base_numbering": 1,
   "nav_menu": {},
   "number_sections": false,
   "sideBar": true,
   "skip_h1_title": false,
   "title_cell": "Table of Contents",
   "title_sidebar": "Contents",
   "toc_cell": false,
   "toc_position": {
    "height": "calc(100% - 180px)",
    "left": "10px",
    "top": "150px",
    "width": "340.391px"
   },
   "toc_section_display": true,
   "toc_window_display": true
  },
  "varInspector": {
   "cols": {
    "lenName": 16,
    "lenType": 16,
    "lenVar": 40
   },
   "kernels_config": {
    "python": {
     "delete_cmd_postfix": "",
     "delete_cmd_prefix": "del ",
     "library": "var_list.py",
     "varRefreshCmd": "print(var_dic_list())"
    },
    "r": {
     "delete_cmd_postfix": ") ",
     "delete_cmd_prefix": "rm(",
     "library": "var_list.r",
     "varRefreshCmd": "cat(var_dic_list()) "
    }
   },
   "types_to_exclude": [
    "module",
    "function",
    "builtin_function_or_method",
    "instance",
    "_Feature"
   ],
   "window_display": false
  }
 },
 "nbformat": 4,
 "nbformat_minor": 2
}
