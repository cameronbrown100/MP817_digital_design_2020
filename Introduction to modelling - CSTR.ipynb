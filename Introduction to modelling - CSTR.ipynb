{
 "cells": [
  {
   "cell_type": "markdown",
   "metadata": {},
   "source": [
    "# Step 5. Write down the equations\n",
    "Balance equations are the basis of most models\n",
    "\n",
    "We almost always start with a mass (material) balance (mass conservation)\n",
    "\n",
    "We track what we call the hold-up, which is the amount held inside the system\n",
    "\n",
    "The general form of balance:\n",
    "\\begin{equation}\n",
    "\\ {Change}\\,{in}\\,{holdup}\\,{over}\\,{time} = in - out + generation - destruction\n",
    "\\end{equation}\n",
    "\n",
    "Change in hold-up over time is typicall called accumulation\n",
    "\n",
    "For the lake, we could write:\n",
    "- Change in hold-up over time:\n",
    "\\begin{equation}\n",
    "\\frac{dM}{dt}\n",
    "\\end{equation}\n",
    "- In:\n",
    "\\begin{equation}\n",
    "F_{rain} + F_{stream}\n",
    "\\end{equation}\n",
    "- Out:\n",
    "\\begin{equation}\n",
    "F_{evap} + F_{ground} + F_{farmers} + F_{pump}\n",
    "\\end{equation}\n",
    "\n",
    "Note: there are no generation or destruction terms in our model\n",
    "\n",
    "|Variable | Meaning |\n",
    "|--- | --- |\n",
    "|$M$ | Mass of water in the lake (Mg) |\n",
    "|$F_{rain}$ | Mass flow of rain into the lake (Mg/min) |\n",
    "|$F_{stream}$ | Mass flow of stream coming into the lake (Mg/min) |\n",
    "|$F_{evap}$ | Mass flow evaporating water (Mg/min) |\n",
    "|$F_{ground}$ | Mass flow of water going to ground water (Mg/min) |\n",
    "|$F_{farmers}$ | Mass flow of water taken out of lake by farmers (Mg/min) |\n",
    "|$F_{pump}$ | Mass flow of water pumped out of the lake (Mg/min) |\n",
    "\n",
    "\n",
    "Combining equations (1) to (4):\n",
    "\\begin{equation}\n",
    "\\frac{dM}{dt} = F_{rain} + F_{stream} - F_{evap} - F_{ground} - F_{farmers} - F_{pump}\n",
    "\\end{equation}\n",
    "\n",
    "After we have written down the balances, we can write the algebraic equations\n",
    "\n",
    "The algebraic equations describe \"static\" relations between variables\n",
    "- In the lake example, we can define the mass holdup as a function of the volume and density:\n",
    "\\begin{equation}\n",
    "\\ M = \\rho V\n",
    "\\end{equation}\n",
    "- We can write the volume as a function of the level in the lake and the area:\n",
    "\\begin{equation}\n",
    "\\ V = Ah\n",
    "\\end{equation}\n",
    "\n",
    "|Variable | Meaning |\n",
    "|--- | --- |\n",
    "|$\\rho$| Mass density of water (kg/m$^{3}$) |\n",
    "|$V$| Volume of water in lake (k.m$^{3}$) |\n",
    "|$A$| Area of water in lake (k.m$^{2}$) |\n",
    "|$h$| Level of the water in the lake (m) |"
   ]
  },
  {
   "cell_type": "markdown",
   "metadata": {},
   "source": [
    "## Step 5.1 Write down the equations (initial conditions)\n",
    "The accumulation term ($\\frac{d}{dt}$) only describes how the system changes with time\n",
    "\n",
    "We therefore need to know where the system starts; this is call teh \"initial condition\"\n",
    "\n",
    "<center><font color=blue>For every equation with a $\\frac{d}{dt}$ term (differential equation), we need an initial condition</font></center>\n",
    "\n",
    "For the lake example, for $A = 100$ k.m$^{2}$ and $\\rho = 1000$ kg/m$^{3}$ we could use any of the following conditions:\n",
    "- $M = 1\\cdot10^6$ Mg\n",
    "- $V = 1\\cdot10^3$ k.m$^{3}$\n",
    "- $h = 10$ m"
   ]
  },
  {
   "cell_type": "markdown",
   "metadata": {},
   "source": [
    "## Step 5.2 Write down the equations - Summary\n",
    "- 3 equations:\n",
    "\\begin{equation}\n",
    "\\frac{dM}{dt} = F_{rain} + F_{stream} - F_{evap} - F_{ground} - F_{farmers} - F_{pump}\n",
    "\\end{equation}\n",
    "\\begin{equation}\n",
    "\\ M = \\rho V\n",
    "\\end{equation}\n",
    "\\begin{equation}\n",
    "\\ V = Ah\n",
    "\\end{equation}\n",
    "\n",
    "- 2 parameters: $\\rho$, $A$ (parameters do not change during the simulation)\n",
    "\n",
    "- 9 variables: $M, V, h, F_{rain}, F_{stream}, F_{evap}, F_{ground}, F_{farmers}, F_{pump}$\n",
    "\n",
    "<center><font color=blue>Note: Time is an independent variable here</font></center>"
   ]
  },
  {
   "cell_type": "markdown",
   "metadata": {},
   "source": [
    "# Step 6. Implement the equations and run the simulation"
   ]
  },
  {
   "cell_type": "markdown",
   "metadata": {},
   "source": [
    "## 6.1 Import packages needed to run the simulation"
   ]
  },
  {
   "cell_type": "code",
   "execution_count": 2,
   "metadata": {
    "ExecuteTime": {
     "end_time": "2020-01-24T16:34:14.788754Z",
     "start_time": "2020-01-24T16:34:14.785753Z"
    }
   },
   "outputs": [],
   "source": [
    "from gekko import GEKKO\n",
    "import numpy as np\n",
    "import matplotlib.pyplot as plt"
   ]
  },
  {
   "cell_type": "markdown",
   "metadata": {},
   "source": [
    "## 6.2 Create a model and define the parameters and variables"
   ]
  },
  {
   "cell_type": "code",
   "execution_count": 18,
   "metadata": {
    "ExecuteTime": {
     "end_time": "2020-01-24T16:50:24.588052Z",
     "start_time": "2020-01-24T16:50:24.305582Z"
    }
   },
   "outputs": [],
   "source": [
    "m = GEKKO() # create GEKKO model\n",
    "m.time = np.linspace(0,120,120) # define the time over which to solve the model\n",
    "\n",
    "# define the constant parameters\n",
    "rho = m.Const(value = 1) #g/ml\n",
    "A = m.Const(value = 0.00785)\n",
    "\n",
    "# define the varibles.\n",
    "# Note in this instance since we're not altering them over the course of the simulation they are defined as constants\n",
    "Ffeed = m.Const(value = 1) #g/min\n",
    "Fantisol = m.Const(value = 3) #g/min\n",
    "Fevap = m.Const(value = 0.01) #g/min\n",
    "Fpump = m.Const(value = 4.01) #g/min\n",
    "\n",
    "# for this instance these are true variables and will change over the course of the simulation\n",
    "M = m.Var(value = 1000) #g\n",
    "V = m.Var(value = 1000) #ml\n",
    "h = m.Var(value = 0.127) #m\n",
    "x = m.Var(value = 1) #mass fraction solvent\n",
    "Msol = m.Var(value = 1000) #g\n",
    "Mantisol = m.Var(value = 0) #g\n",
    "t = m.Param(value=m.time)"
   ]
  },
  {
   "cell_type": "markdown",
   "metadata": {},
   "source": [
    "## 6.3 Define the equations"
   ]
  },
  {
   "cell_type": "code",
   "execution_count": 19,
   "metadata": {
    "ExecuteTime": {
     "end_time": "2020-01-24T16:50:25.238656Z",
     "start_time": "2020-01-24T16:50:25.233697Z"
    }
   },
   "outputs": [
    {
     "data": {
      "text/plain": [
       "<gekko.gekko.EquationObj at 0x18d21237e08>"
      ]
     },
     "execution_count": 19,
     "metadata": {},
     "output_type": "execute_result"
    }
   ],
   "source": [
    "m.Equation(M.dt() == Ffeed+Fantisol-Fevap-Fpump) # our balance equation\n",
    "m.Equation(M == rho*V) # static equation relating mass and volume\n",
    "m.Equation(V == A*h*1000000) # static equation relating volume and lake height\n",
    "m.Equation(x == Msol/M) # static equation for solvent mass fraction\n",
    "m.Equation(Msol.dt() == Ffeed-x*(Fevap+Fpump))\n",
    "m.Equation(Mantisol.dt() == Fantisol-(1-x)*(Fevap+Fpump))"
   ]
  },
  {
   "cell_type": "markdown",
   "metadata": {},
   "source": [
    "## 6.4 Setup the solver and run the simulation"
   ]
  },
  {
   "cell_type": "code",
   "execution_count": 20,
   "metadata": {
    "ExecuteTime": {
     "end_time": "2020-01-24T16:50:30.358299Z",
     "start_time": "2020-01-24T16:50:26.192892Z"
    }
   },
   "outputs": [
    {
     "data": {
      "text/plain": [
       "Text(0, 0.5, 'Lake height (m)')"
      ]
     },
     "execution_count": 20,
     "metadata": {},
     "output_type": "execute_result"
    },
    {
     "data": {
      "image/png": "[encoded data removed]",
      "text/plain": [
       "<Figure size 432x288 with 1 Axes>"
      ]
     },
     "metadata": {
      "needs_background": "light"
     },
     "output_type": "display_data"
    }
   ],
   "source": [
    "m.options.IMODE = 4 # Dynamic simulation with simultaneous solution of equations\n",
    "m.solve(disp=False)\n",
    "plt.plot(m.time,x.value)\n",
    "plt.xlabel('Time (min)')\n",
    "plt.ylabel('Lake height (m)')"
   ]
  },
  {
   "cell_type": "markdown",
   "metadata": {},
   "source": [
    "# Step 7. Validate the model\n",
    "Do your results make sense?\n",
    "\n",
    "In order to ensure that the model predictions conform with observations from reality, you need to compare your results against measurements\n",
    "\n",
    "If your results are inaccurate, possibly change values of the unknowns and revisit the model to make improvements or correct inaccuracies"
   ]
  },
  {
   "cell_type": "markdown",
   "metadata": {},
   "source": [
    "# Step 8. Document the model\n",
    "To ensure your model is clear and robust, it is always good practise to document it for others to inspect.\n",
    "- Using environemnts like this (jupyter notebook) allows you to have the documentation along side the code to run the simulation"
   ]
  }
 ],
 "metadata": {
  "kernelspec": {
   "display_name": "Python 3",
   "language": "python",
   "name": "python3"
  },
  "language_info": {
   "codemirror_mode": {
    "name": "ipython",
    "version": 3
   },
   "file_extension": ".py",
   "mimetype": "text/x-python",
   "name": "python",
   "nbconvert_exporter": "python",
   "pygments_lexer": "ipython3",
   "version": "3.7.5"
  },
  "toc": {
   "base_numbering": 1,
   "nav_menu": {},
   "number_sections": false,
   "sideBar": true,
   "skip_h1_title": false,
   "title_cell": "Table of Contents",
   "title_sidebar": "Contents",
   "toc_cell": false,
   "toc_position": {
    "height": "calc(100% - 180px)",
    "left": "10px",
    "top": "150px",
    "width": "340.391px"
   },
   "toc_section_display": true,
   "toc_window_display": true
  },
  "varInspector": {
   "cols": {
    "lenName": 16,
    "lenType": 16,
    "lenVar": 40
   },
   "kernels_config": {
    "python": {
     "delete_cmd_postfix": "",
     "delete_cmd_prefix": "del ",
     "library": "var_list.py",
     "varRefreshCmd": "print(var_dic_list())"
    },
    "r": {
     "delete_cmd_postfix": ") ",
     "delete_cmd_prefix": "rm(",
     "library": "var_list.r",
     "varRefreshCmd": "cat(var_dic_list()) "
    }
   },
   "types_to_exclude": [
    "module",
    "function",
    "builtin_function_or_method",
    "instance",
    "_Feature"
   ],
   "window_display": false
  }
 },
 "nbformat": 4,
 "nbformat_minor": 2
}
